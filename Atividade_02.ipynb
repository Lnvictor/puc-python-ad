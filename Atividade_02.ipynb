{
 "cells": [
  {
   "cell_type": "markdown",
   "id": "d43075e7-3341-47fd-a453-925303be255a",
   "metadata": {},
   "source": [
    "## Victor Henrique Barbosa Pereira RA: 24022987\n",
    "\n",
    "## Estudo Orientado - Unidade 2"
   ]
  },
  {
   "cell_type": "code",
   "execution_count": 167,
   "id": "a068179f-7244-4500-9de8-a04175b94e9d",
   "metadata": {},
   "outputs": [],
   "source": [
    "import pandas as pd\n",
    "\n",
    "# lendo arquivo csv\n",
    "csv = pd.read_csv('.\\dados_vendas.csv')"
   ]
  },
  {
   "cell_type": "code",
   "execution_count": 168,
   "id": "eb960263-265a-4529-ac46-7d3e32217c75",
   "metadata": {},
   "outputs": [
    {
     "name": "stdout",
     "output_type": "stream",
     "text": [
      "A região com maior porcentagem de vendas foi Sudeste com um percentual de 25.28%\n"
     ]
    }
   ],
   "source": [
    "# 1. Maior quantidade de vendas\n",
    "vendas_por_regiao = csv.groupby(\"Região\")[\"Valor Compra\"].size()\n",
    "vendas_soma = vendas_por_regiao.sum()\n",
    "porcentagens_por_regiao = (vendas_por_regiao / vendas_soma * 100)\n",
    "porcentagem_maxima = (porcentagens_por_regiao.idxmax(),\n",
    "                      porcentagens_por_regiao.max())\n",
    "\n",
    "# Imprimindo maior porcentagem de vendas\n",
    "print(f\"A região com maior porcentagem de vendas foi {porcentagem_maxima[0]}\"\n",
    "      f\" com um percentual de {porcentagem_maxima[1]}%\")"
   ]
  },
  {
   "cell_type": "code",
   "execution_count": 169,
   "id": "16a92516-87f1-4241-8da9-3a36d8b793fe",
   "metadata": {},
   "outputs": [
    {
     "name": "stdout",
     "output_type": "stream",
     "text": [
      "A região que gerou maior valor em reais é Sudeste com um valor de R$486405.6\n"
     ]
    }
   ],
   "source": [
    "# 2. Recuperando a região que rendeu maior valor em reais\n",
    "valor_por_regiao = csv.groupby(\"Região\")[\"Valor Compra\"].sum()\n",
    "regiao_com_maior_valor = (valor_por_regiao.idxmax(), valor_por_regiao.max())\n",
    "\n",
    "# Imprimindo região que gerou mais dinheiro\n",
    "print(f\"A região que gerou maior valor em reais é {regiao_com_maior_valor[0]}\"\n",
    "      f\" com um valor de R${round(regiao_com_maior_valor[1], 2)}\")"
   ]
  },
  {
   "cell_type": "code",
   "execution_count": 170,
   "id": "93c43665-cf23-421c-8559-afadca5549a7",
   "metadata": {},
   "outputs": [
    {
     "name": "stdout",
     "output_type": "stream",
     "text": [
      "A região sudeste é a região que rendeu maior valor em reais com R$486405.6 e também é a região com a maior porcentagem de vendas com 25.28%\n"
     ]
    }
   ],
   "source": [
    "# 3. A região com maior quantidade de vendas está entre as que renderam maiores valores em reais\n",
    "print(f\"A região sudeste é a região que rendeu maior valor em\"\n",
    "      f\" reais com R${round(regiao_com_maior_valor[1], 2)} e\"\n",
    "      f\" também é a região com a maior porcentagem\"\n",
    "      f\" de vendas com {porcentagem_maxima[1]}%\")"
   ]
  },
  {
   "cell_type": "code",
   "execution_count": 171,
   "id": "cbbf8155-6b97-4a00-8824-17e615666e73",
   "metadata": {},
   "outputs": [
    {
     "name": "stdout",
     "output_type": "stream",
     "text": [
      "A região Centro-Oeste tem  3 clientes\n",
      "A região Nordeste tem  3 clientes\n",
      "A região Norte tem  3 clientes\n",
      "A região Sudeste tem  3 clientes\n",
      "A região Sul tem  3 clientes\n"
     ]
    }
   ],
   "source": [
    "# 4. Qual número atual de clientes em cada uma das 5 regiões?\n",
    "\n",
    "## Imprimindo o numero atual de clientes de cada região\n",
    "clientes_por_regiao = csv.groupby(\"Região\")[\"Cliente\"].nunique()\n",
    "\n",
    "for regiao, n_clientes in clientes_por_regiao.items():\n",
    "    print(f\"A região {regiao} tem  {n_clientes} clientes\")"
   ]
  }
 ],
 "metadata": {
  "kernelspec": {
   "display_name": "Python 3 (ipykernel)",
   "language": "python",
   "name": "python3"
  },
  "language_info": {
   "codemirror_mode": {
    "name": "ipython",
    "version": 3
   },
   "file_extension": ".py",
   "mimetype": "text/x-python",
   "name": "python",
   "nbconvert_exporter": "python",
   "pygments_lexer": "ipython3",
   "version": "3.11.7"
  }
 },
 "nbformat": 4,
 "nbformat_minor": 5
}
