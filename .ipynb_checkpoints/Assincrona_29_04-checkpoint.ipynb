{
 "cells": [
  {
   "cell_type": "markdown",
   "id": "9fea0e97-11a9-45f7-9b6b-361249fabc20",
   "metadata": {},
   "source": [
    "# Atividade Assincrona 29/04\n",
    "\n",
    "## Nome:"
   ]
  },
  {
   "cell_type": "code",
   "execution_count": 1,
   "id": "bbe960ae-052e-4534-a828-4f884ed578f5",
   "metadata": {},
   "outputs": [
    {
     "name": "stdout",
     "output_type": "stream",
     "text": [
      "3\n",
      "11\n",
      "65\n"
     ]
    }
   ],
   "source": [
    "# Exercicio 1\n",
    "\n",
    "def soma(x, y):\n",
    "    return x + y\n",
    "\n",
    "## Testando\n",
    "print(soma(1, 2))\n",
    "print(soma(4, 7))\n",
    "print(soma(13, 52))"
   ]
  },
  {
   "cell_type": "code",
   "execution_count": 3,
   "id": "e7292a4f-a670-4d37-b4f9-83a850cc8d46",
   "metadata": {},
   "outputs": [
    {
     "name": "stdout",
     "output_type": "stream",
     "text": [
      "7\n",
      "5\n",
      "6\n"
     ]
    }
   ],
   "source": [
    "# Exercício 2\n",
    "\n",
    "def retorna_comprimento_da_string(str):\n",
    "    return len(str)\n",
    "\n",
    "## Testando\n",
    "print(retorna_comprimento_da_string(\"abacaxi\"))\n",
    "print(retorna_comprimento_da_string(\"monza\"))\n",
    "print(retorna_comprimento_da_string(\"Escada\"))"
   ]
  },
  {
   "cell_type": "code",
   "execution_count": 4,
   "id": "f220ee27-635b-4c68-8a17-8806ce0bc4f7",
   "metadata": {},
   "outputs": [
    {
     "name": "stdout",
     "output_type": "stream",
     "text": [
      "None\n",
      "None\n"
     ]
    }
   ],
   "source": [
    "# Exercicio 3\n",
    "\n",
    "def retorna_somente_pares(lista):\n",
    "    pares = []\n",
    "\n",
    "    for numero in lista:\n",
    "        if numero % 2 == 0:\n",
    "            pares.append(numero)\n",
    "\n",
    "    return pares\n",
    "\n",
    "## Testando\n",
    "print(retorna_somente_pares([1, 2, 3, 4, 5, 6]))\n",
    "print(retorna_somente_pares([4, 2, 8, 9, 7, 10]))"
   ]
  }
 ],
 "metadata": {
  "kernelspec": {
   "display_name": "Python 3 (ipykernel)",
   "language": "python",
   "name": "python3"
  },
  "language_info": {
   "codemirror_mode": {
    "name": "ipython",
    "version": 3
   },
   "file_extension": ".py",
   "mimetype": "text/x-python",
   "name": "python",
   "nbconvert_exporter": "python",
   "pygments_lexer": "ipython3",
   "version": "3.11.7"
  }
 },
 "nbformat": 4,
 "nbformat_minor": 5
}
