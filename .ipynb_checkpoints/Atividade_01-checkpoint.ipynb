{
 "cells": [
  {
   "cell_type": "markdown",
   "id": "c8a1a4fb-544a-42c0-9648-4dc928d9aff2",
   "metadata": {},
   "source": [
    "# Estudo Orientado | Unidade 1\n",
    "\n",
    "## Nome: Victor Henrique Barbosa Pereira RA: 24022987"
   ]
  },
  {
   "cell_type": "code",
   "execution_count": 1,
   "id": "0953d3f4-ebe3-4341-87ca-507e9a70e5a1",
   "metadata": {},
   "outputs": [],
   "source": [
    "import requests\n",
    "from bs4 import BeautifulSoup"
   ]
  },
  {
   "cell_type": "markdown",
   "id": "40efcf5c-55ac-4920-a667-0717c734a8ea",
   "metadata": {},
   "source": [
    "#### Pesquisando Densidades demográficas das cidades: (Sumare, Limeira, Paulinia, Tapiratiba)"
   ]
  },
  {
   "cell_type": "code",
   "execution_count": null,
   "id": "fd6f8a5c-ce1f-4abb-8fd4-d76f7a783f22",
   "metadata": {},
   "outputs": [
    {
     "name": "stdout",
     "output_type": "stream",
     "text": [
      "Densidade demografica de sumare: 1821.56\n",
      "Densidade demografica de limeira: 502.61\n"
     ]
    }
   ],
   "source": [
    "links_cidades = [\n",
    "    'https://www.ibge.gov.br/cidades-e-estados/sp/sumare.html', \n",
    "    'https://www.ibge.gov.br/cidades-e-estados/sp/limeira.html',\n",
    "    'https://www.ibge.gov.br/cidades-e-estados/sp/paulinia.html',\n",
    "    'https://www.ibge.gov.br/cidades-e-estados/sp/tapiratiba.html'\n",
    "]\n",
    "densidades = {}\n",
    "\n",
    "for link in links_cidades:\n",
    "    # Executa para cada cidade da lista\n",
    "    nome_cidade = link[45:-5]\n",
    "    page = requests.get(link)\n",
    "    soup = BeautifulSoup(page.content, 'html.parser')\n",
    "\n",
    "    # Densidade demográfica é o 4 item com a classe \"indicador\"\n",
    "    densidade_tag = soup.find_all('div', {'class': 'indicador'})[4]\n",
    "    densidadeStr = densidade_tag.find('p', {'class': 'ind-value'}).text\n",
    "\n",
    "    # Convertendo string em float\n",
    "    densidade = float(densidadeStr[:densidadeStr.index(\"hab\")].\n",
    "                      replace(\".\", \"\").replace(\",\", \".\"))\n",
    "    \n",
    "    print(f\"Densidade demografica de {nome_cidade}: {densidade}\")\n",
    "\n",
    "    #armazenando densidades demográficas em um dicionário\n",
    "    densidades[nome_cidade] = densidade"
   ]
  },
  {
   "cell_type": "markdown",
   "id": "3001cce1-4f88-4c85-b375-f791de989ef1",
   "metadata": {},
   "source": [
    "#### Agora, vamos verificar se podemos construir o parque em cada cidade"
   ]
  },
  {
   "cell_type": "code",
   "execution_count": null,
   "id": "fa0f828a-3c5d-4924-8ace-acfa7a65f098",
   "metadata": {},
   "outputs": [],
   "source": [
    "for key, value in densidades.items():\n",
    "    if value > 110:\n",
    "        print(f\"O parque podera ser construido na cidade: {key}\")\n",
    "    else:\n",
    "        print(f\"O parque nao podera ser construido na cidade: {key}\")"
   ]
  },
  {
   "cell_type": "code",
   "execution_count": null,
   "id": "86ca6740-ee79-4861-a5bd-30ee19ddfca7",
   "metadata": {},
   "outputs": [],
   "source": []
  }
 ],
 "metadata": {
  "kernelspec": {
   "display_name": "Python 3 (ipykernel)",
   "language": "python",
   "name": "python3"
  },
  "language_info": {
   "codemirror_mode": {
    "name": "ipython",
    "version": 3
   },
   "file_extension": ".py",
   "mimetype": "text/x-python",
   "name": "python",
   "nbconvert_exporter": "python",
   "pygments_lexer": "ipython3",
   "version": "3.11.7"
  }
 },
 "nbformat": 4,
 "nbformat_minor": 5
}
